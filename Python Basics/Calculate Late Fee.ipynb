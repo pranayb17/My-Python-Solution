{
 "cells": [
  {
   "cell_type": "code",
   "execution_count": null,
   "id": "58e2147e-ee91-4e66-b287-a9b322a8c92c",
   "metadata": {},
   "outputs": [],
   "source": [
    "\"\"\" Problem statement\n",
    "\n",
    "Let's make a program for the library! You know when you forget to return a book on time? Well, this program will help you figure out how much you owe in late fees!\n",
    "\n",
    "Here's how it works:\n",
    "\n",
    "First, Take input \"X\" as how many days late you are with returning your book.\n",
    "Then, it will calculate how much money you need to pay for being late. \n",
    "Don't worry; it's just a small amount for each day.\n",
    "Finally, the program will tell you the total amount you owe. Easy, right?\n",
    "\n",
    "Note:\n",
    "\n",
    "Assume that the late fee is 0.25 per day.\n",
    "\n",
    "Sample Input 1:\n",
    "\n",
    "7\n",
    "\n",
    "Sample Output 1:\n",
    "\n",
    "1.75\n",
    "\n",
    "Sample Input 2:\n",
    "\n",
    "1000\n",
    "\n",
    "Sample Output 2:\n",
    "\n",
    "250.0\"\"\"\n",
    "\n"
   ]
  },
  {
   "cell_type": "code",
   "execution_count": 2,
   "id": "a26284ef-43b6-46af-8c92-e41dc45281ac",
   "metadata": {},
   "outputs": [
    {
     "name": "stdin",
     "output_type": "stream",
     "text": [
      " 25\n"
     ]
    },
    {
     "name": "stdout",
     "output_type": "stream",
     "text": [
      "6.25\n"
     ]
    }
   ],
   "source": [
    "\n",
    "late_days = int(input())\n",
    "late_fees = 0.25\n",
    "\n",
    "total_late_fees = late_days * late_fees\n",
    "\n",
    "print(total_late_fees)"
   ]
  }
 ],
 "metadata": {
  "kernelspec": {
   "display_name": "Python 3 (ipykernel)",
   "language": "python",
   "name": "python3"
  },
  "language_info": {
   "codemirror_mode": {
    "name": "ipython",
    "version": 3
   },
   "file_extension": ".py",
   "mimetype": "text/x-python",
   "name": "python",
   "nbconvert_exporter": "python",
   "pygments_lexer": "ipython3",
   "version": "3.11.3"
  }
 },
 "nbformat": 4,
 "nbformat_minor": 5
}
